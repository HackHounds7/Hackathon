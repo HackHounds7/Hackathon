{
 "cells": [
  {
   "cell_type": "code",
   "execution_count": 1,
   "metadata": {
    "_cell_guid": "b1076dfc-b9ad-4769-8c92-a6c4dae69d19",
    "_uuid": "8f2839f25d086af736a60e9eeb907d3b93b6e0e5",
    "execution": {
     "iopub.execute_input": "2023-04-26T09:41:32.453531Z",
     "iopub.status.busy": "2023-04-26T09:41:32.452789Z",
     "iopub.status.idle": "2023-04-26T09:41:32.708844Z",
     "shell.execute_reply": "2023-04-26T09:41:32.707860Z",
     "shell.execute_reply.started": "2023-04-26T09:41:32.453493Z"
    }
   },
   "outputs": [],
   "source": [
    "import numpy as np # linear algebra\n",
    "import pandas as pd # data processing, CSV file I/O (e.g. pd.read_csv)\n",
    "import tensorflow as tf\n",
    "import matplotlib.pyplot as plt\n",
    "import seaborn as sns\n",
    "\n",
    "from tensorflow import keras\n",
    "from keras.preprocessing.image import ImageDataGenerator\n",
    "from keras import models, layers # Framework for neural nets creating\n",
    "from keras.layers import Dense, GlobalAveragePooling2D\n",
    "from keras.callbacks import EarlyStopping\n",
    "from keras.applications import Xception, VGG19, ResNet50, MobileNet,InceptionResNetV2\n",
    "from keras.models import Model\n",
    "\n",
    "\n",
    "import os, shutil # filesystem operations \n",
    "from os import listdir\n",
    "from os.path import isfile, join\n",
    "\n",
    "from sklearn.metrics import multilabel_confusion_matrix\n",
    "from sklearn.metrics import confusion_matrix\n",
    "\n",
    "\n",
    "\n",
    "import random\n",
    "#import tensorflow_addons as tfa\n",
    "#from keras import optimizers\n",
    "#from keras.utils import image_dataset_from_directory\n",
    "#%matplotlib inline\n",
    "#from pathlib import Path"
   ]
  },
  {
   "cell_type": "code",
   "execution_count": 2,
   "metadata": {
    "execution": {
     "iopub.execute_input": "2023-04-26T08:39:35.773265Z",
     "iopub.status.busy": "2023-04-26T08:39:35.772547Z",
     "iopub.status.idle": "2023-04-26T08:39:38.099009Z",
     "shell.execute_reply": "2023-04-26T08:39:38.097566Z",
     "shell.execute_reply.started": "2023-04-26T08:39:35.773228Z"
    }
   },
   "outputs": [],
   "source": [
    "# # GPU checking\n",
    "# device_names = tf.test.gpu_device_name()\n",
    "# device_names"
   ]
  },
  {
   "cell_type": "markdown",
   "metadata": {},
   "source": [
    "# Data preparation****"
   ]
  },
  {
   "cell_type": "code",
   "execution_count": 3,
   "metadata": {
    "execution": {
     "iopub.execute_input": "2023-04-26T08:39:38.102111Z",
     "iopub.status.busy": "2023-04-26T08:39:38.100676Z",
     "iopub.status.idle": "2023-04-26T08:39:38.107823Z",
     "shell.execute_reply": "2023-04-26T08:39:38.106547Z",
     "shell.execute_reply.started": "2023-04-26T08:39:38.102068Z"
    }
   },
   "outputs": [],
   "source": [
    "batch_size = 32\n",
    "#image_size = 256\n",
    "target_size = (224,224)\n",
    "input_shape = (224, 224, 3)"
   ]
  },
  {
   "cell_type": "code",
   "execution_count": 4,
   "metadata": {
    "execution": {
     "iopub.execute_input": "2023-04-26T08:39:38.111905Z",
     "iopub.status.busy": "2023-04-26T08:39:38.111544Z",
     "iopub.status.idle": "2023-04-26T08:39:39.156794Z",
     "shell.execute_reply": "2023-04-26T08:39:39.155528Z",
     "shell.execute_reply.started": "2023-04-26T08:39:38.111876Z"
    }
   },
   "outputs": [
    {
     "name": "stdout",
     "output_type": "stream",
     "text": [
      "Found 1342 images belonging to 10 classes.\n",
      "Found 162 images belonging to 10 classes.\n",
      "Found 162 images belonging to 10 classes.\n"
     ]
    }
   ],
   "source": [
    "#Fetching train data and validation data and processing the data\n",
    "train_datagen = ImageDataGenerator(rescale = 1.00 / 255.0)\n",
    "val_datagen = ImageDataGenerator(rescale = 1.00 / 255.0)\n",
    "test_datagen = ImageDataGenerator(rescale = 1.00 / 255.0)\n",
    "\n",
    "train_generator = train_datagen.flow_from_directory(\n",
    "    'Train_10_2/',\n",
    "    target_size = target_size,\n",
    "    batch_size = batch_size\n",
    "\n",
    ")\n",
    "\n",
    "validation_generator = val_datagen.flow_from_directory(\n",
    "    'Validation_10_2/',\n",
    "    target_size = target_size,\n",
    "    batch_size = batch_size\n",
    ")\n",
    "\n",
    "test_generator = test_datagen.flow_from_directory(\n",
    "    'Test_10_2/',\n",
    "    target_size = target_size,\n",
    "    batch_size = batch_size\n",
    ")"
   ]
  },
  {
   "cell_type": "code",
   "execution_count": 5,
   "metadata": {
    "execution": {
     "iopub.execute_input": "2023-04-26T08:39:39.161460Z",
     "iopub.status.busy": "2023-04-26T08:39:39.161121Z",
     "iopub.status.idle": "2023-04-26T08:39:39.170252Z",
     "shell.execute_reply": "2023-04-26T08:39:39.168854Z",
     "shell.execute_reply.started": "2023-04-26T08:39:39.161428Z"
    }
   },
   "outputs": [],
   "source": [
    "classes_list = ['Bamboo', 'Basale', 'Beans', 'Betel', 'Betel_Nut', 'Bhrami', 'Bringaraja', 'camphor',\n",
    "                'Caricature', 'Castor']"
   ]
  },
  {
   "cell_type": "code",
   "execution_count": 6,
   "metadata": {
    "execution": {
     "iopub.execute_input": "2023-04-26T08:39:39.174956Z",
     "iopub.status.busy": "2023-04-26T08:39:39.173635Z",
     "iopub.status.idle": "2023-04-26T08:39:46.484847Z",
     "shell.execute_reply": "2023-04-26T08:39:46.483698Z",
     "shell.execute_reply.started": "2023-04-26T08:39:39.174913Z"
    }
   },
   "outputs": [],
   "source": [
    "model_xception = Xception(weights='imagenet', include_top=False, input_shape=input_shape)\n",
    "model_vgg19 = VGG19(weights='imagenet', include_top=False, input_shape=input_shape)\n",
    "model_mobilenet = MobileNet(weights='imagenet', include_top=False, input_shape=input_shape)\n",
    "model_xception.trainable = False\n",
    "model_vgg19.trainable = False\n",
    "model_mobilenet.trainable = False"
   ]
  },
  {
   "cell_type": "markdown",
   "metadata": {},
   "source": [
    "# VGG19"
   ]
  },
  {
   "cell_type": "code",
   "execution_count": 7,
   "metadata": {
    "execution": {
     "iopub.execute_input": "2023-04-26T08:39:46.486952Z",
     "iopub.status.busy": "2023-04-26T08:39:46.486550Z",
     "iopub.status.idle": "2023-04-26T08:39:46.534136Z",
     "shell.execute_reply": "2023-04-26T08:39:46.533319Z",
     "shell.execute_reply.started": "2023-04-26T08:39:46.486911Z"
    }
   },
   "outputs": [
    {
     "name": "stdout",
     "output_type": "stream",
     "text": [
      "Model: \"vgg19\"\n",
      "_________________________________________________________________\n",
      " Layer (type)                Output Shape              Param #   \n",
      "=================================================================\n",
      " input_2 (InputLayer)        [(None, 224, 224, 3)]     0         \n",
      "                                                                 \n",
      " block1_conv1 (Conv2D)       (None, 224, 224, 64)      1792      \n",
      "                                                                 \n",
      " block1_conv2 (Conv2D)       (None, 224, 224, 64)      36928     \n",
      "                                                                 \n",
      " block1_pool (MaxPooling2D)  (None, 112, 112, 64)      0         \n",
      "                                                                 \n",
      " block2_conv1 (Conv2D)       (None, 112, 112, 128)     73856     \n",
      "                                                                 \n",
      " block2_conv2 (Conv2D)       (None, 112, 112, 128)     147584    \n",
      "                                                                 \n",
      " block2_pool (MaxPooling2D)  (None, 56, 56, 128)       0         \n",
      "                                                                 \n",
      " block3_conv1 (Conv2D)       (None, 56, 56, 256)       295168    \n",
      "                                                                 \n",
      " block3_conv2 (Conv2D)       (None, 56, 56, 256)       590080    \n",
      "                                                                 \n",
      " block3_conv3 (Conv2D)       (None, 56, 56, 256)       590080    \n",
      "                                                                 \n",
      " block3_conv4 (Conv2D)       (None, 56, 56, 256)       590080    \n",
      "                                                                 \n",
      " block3_pool (MaxPooling2D)  (None, 28, 28, 256)       0         \n",
      "                                                                 \n",
      " block4_conv1 (Conv2D)       (None, 28, 28, 512)       1180160   \n",
      "                                                                 \n",
      " block4_conv2 (Conv2D)       (None, 28, 28, 512)       2359808   \n",
      "                                                                 \n",
      " block4_conv3 (Conv2D)       (None, 28, 28, 512)       2359808   \n",
      "                                                                 \n",
      " block4_conv4 (Conv2D)       (None, 28, 28, 512)       2359808   \n",
      "                                                                 \n",
      " block4_pool (MaxPooling2D)  (None, 14, 14, 512)       0         \n",
      "                                                                 \n",
      " block5_conv1 (Conv2D)       (None, 14, 14, 512)       2359808   \n",
      "                                                                 \n",
      " block5_conv2 (Conv2D)       (None, 14, 14, 512)       2359808   \n",
      "                                                                 \n",
      " block5_conv3 (Conv2D)       (None, 14, 14, 512)       2359808   \n",
      "                                                                 \n",
      " block5_conv4 (Conv2D)       (None, 14, 14, 512)       2359808   \n",
      "                                                                 \n",
      " block5_pool (MaxPooling2D)  (None, 7, 7, 512)         0         \n",
      "                                                                 \n",
      "=================================================================\n",
      "Total params: 20,024,384\n",
      "Trainable params: 0\n",
      "Non-trainable params: 20,024,384\n",
      "_________________________________________________________________\n"
     ]
    }
   ],
   "source": [
    "model_vgg19.summary()"
   ]
  },
  {
   "cell_type": "code",
   "execution_count": 8,
   "metadata": {
    "execution": {
     "iopub.execute_input": "2023-04-26T08:39:46.535728Z",
     "iopub.status.busy": "2023-04-26T08:39:46.535380Z",
     "iopub.status.idle": "2023-04-26T08:39:46.685765Z",
     "shell.execute_reply": "2023-04-26T08:39:46.684886Z",
     "shell.execute_reply.started": "2023-04-26T08:39:46.535681Z"
    }
   },
   "outputs": [
    {
     "name": "stdout",
     "output_type": "stream",
     "text": [
      "Model: \"model\"\n",
      "_________________________________________________________________\n",
      " Layer (type)                Output Shape              Param #   \n",
      "=================================================================\n",
      " input_2 (InputLayer)        [(None, 224, 224, 3)]     0         \n",
      "                                                                 \n",
      " block1_conv1 (Conv2D)       (None, 224, 224, 64)      1792      \n",
      "                                                                 \n",
      " block1_conv2 (Conv2D)       (None, 224, 224, 64)      36928     \n",
      "                                                                 \n",
      " block1_pool (MaxPooling2D)  (None, 112, 112, 64)      0         \n",
      "                                                                 \n",
      " block2_conv1 (Conv2D)       (None, 112, 112, 128)     73856     \n",
      "                                                                 \n",
      " block2_conv2 (Conv2D)       (None, 112, 112, 128)     147584    \n",
      "                                                                 \n",
      " block2_pool (MaxPooling2D)  (None, 56, 56, 128)       0         \n",
      "                                                                 \n",
      " block3_conv1 (Conv2D)       (None, 56, 56, 256)       295168    \n",
      "                                                                 \n",
      " block3_conv2 (Conv2D)       (None, 56, 56, 256)       590080    \n",
      "                                                                 \n",
      " block3_conv3 (Conv2D)       (None, 56, 56, 256)       590080    \n",
      "                                                                 \n",
      " block3_conv4 (Conv2D)       (None, 56, 56, 256)       590080    \n",
      "                                                                 \n",
      " block3_pool (MaxPooling2D)  (None, 28, 28, 256)       0         \n",
      "                                                                 \n",
      " block4_conv1 (Conv2D)       (None, 28, 28, 512)       1180160   \n",
      "                                                                 \n",
      " block4_conv2 (Conv2D)       (None, 28, 28, 512)       2359808   \n",
      "                                                                 \n",
      " block4_conv3 (Conv2D)       (None, 28, 28, 512)       2359808   \n",
      "                                                                 \n",
      " block4_conv4 (Conv2D)       (None, 28, 28, 512)       2359808   \n",
      "                                                                 \n",
      " block4_pool (MaxPooling2D)  (None, 14, 14, 512)       0         \n",
      "                                                                 \n",
      " block5_conv1 (Conv2D)       (None, 14, 14, 512)       2359808   \n",
      "                                                                 \n",
      " block5_conv2 (Conv2D)       (None, 14, 14, 512)       2359808   \n",
      "                                                                 \n",
      " block5_conv3 (Conv2D)       (None, 14, 14, 512)       2359808   \n",
      "                                                                 \n",
      " block5_conv4 (Conv2D)       (None, 14, 14, 512)       2359808   \n",
      "                                                                 \n",
      " block5_pool (MaxPooling2D)  (None, 7, 7, 512)         0         \n",
      "                                                                 \n",
      " global_average_pooling2d (G  (None, 512)              0         \n",
      " lobalAveragePooling2D)                                          \n",
      "                                                                 \n",
      " dense (Dense)               (None, 1024)              525312    \n",
      "                                                                 \n",
      " dense_1 (Dense)             (None, 512)               524800    \n",
      "                                                                 \n",
      " dense_2 (Dense)             (None, 256)               131328    \n",
      "                                                                 \n",
      " dense_3 (Dense)             (None, 10)                2570      \n",
      "                                                                 \n",
      "=================================================================\n",
      "Total params: 21,208,394\n",
      "Trainable params: 1,184,010\n",
      "Non-trainable params: 20,024,384\n",
      "_________________________________________________________________\n"
     ]
    }
   ],
   "source": [
    "# add new classifier layers\n",
    "flat1 = model_vgg19.layers[-1].output\n",
    "# flat1 = Flat(flat1)\n",
    "flat1 = GlobalAveragePooling2D()(flat1)\n",
    "class1 = layers.Dense(1024, activation='relu')(flat1)\n",
    "class1 = layers.Dense(512, activation='relu')(class1)\n",
    "class1 = layers.Dense(256, activation='relu')(class1)\n",
    "# class1 = layers.Dense(128, activation='relu')(class1)\n",
    "# class1 = layers.Dense(64, activation='relu')(class1)\n",
    "output = layers.Dense(10, activation='softmax')(class1)\n",
    "# define new model\n",
    "model = Model(inputs=model_vgg19.inputs, outputs=output)\n",
    "model.compile(\n",
    "  loss = \"categorical_crossentropy\",\n",
    "  optimizer=\"adam\",\n",
    "  metrics = [\"acc\"]\n",
    ")\n",
    "# summarize\n",
    "model.summary()"
   ]
  },
  {
   "cell_type": "code",
   "execution_count": 9,
   "metadata": {
    "execution": {
     "iopub.execute_input": "2023-04-26T08:39:46.687376Z",
     "iopub.status.busy": "2023-04-26T08:39:46.686896Z",
     "iopub.status.idle": "2023-04-26T08:39:46.706113Z",
     "shell.execute_reply": "2023-04-26T08:39:46.696334Z",
     "shell.execute_reply.started": "2023-04-26T08:39:46.687346Z"
    }
   },
   "outputs": [],
   "source": [
    "es = EarlyStopping(monitor='val_loss', mode='min', verbose=1, patience=5)"
   ]
  },
  {
   "cell_type": "code",
   "execution_count": 11,
   "metadata": {
    "execution": {
     "iopub.execute_input": "2023-04-26T08:39:46.722042Z",
     "iopub.status.busy": "2023-04-26T08:39:46.715484Z",
     "iopub.status.idle": "2023-04-26T09:31:17.420073Z",
     "shell.execute_reply": "2023-04-26T09:31:17.418857Z",
     "shell.execute_reply.started": "2023-04-26T08:39:46.722009Z"
    }
   },
   "outputs": [
    {
     "name": "stdout",
     "output_type": "stream",
     "text": [
      "Epoch 1/2\n",
      "42/42 [==============================] - 424s 10s/step - loss: 1.7213 - acc: 0.4121 - val_loss: 1.3213 - val_acc: 0.5679\n",
      "Epoch 2/2\n",
      "42/42 [==============================] - 468s 11s/step - loss: 0.9030 - acc: 0.7057 - val_loss: 0.6356 - val_acc: 0.8148\n"
     ]
    }
   ],
   "source": [
    "#Training the model with train data and judging this training with validation data\n",
    "history1 = model.fit(\n",
    "    train_generator,\n",
    "    batch_size=batch_size,\n",
    "    epochs = 2,\n",
    "    validation_data = validation_generator, \n",
    "    callbacks=[es],\n",
    "    verbose=1)"
   ]
  },
  {
   "cell_type": "code",
   "execution_count": 12,
   "metadata": {
    "execution": {
     "iopub.execute_input": "2023-04-26T09:31:17.423222Z",
     "iopub.status.busy": "2023-04-26T09:31:17.422849Z",
     "iopub.status.idle": "2023-04-26T09:31:17.906872Z",
     "shell.execute_reply": "2023-04-26T09:31:17.905844Z",
     "shell.execute_reply.started": "2023-04-26T09:31:17.423183Z"
    }
   },
   "outputs": [
    {
     "data": {
      "image/png": "[encoded data removed]",
      "text/plain": [
       "<Figure size 432x288 with 1 Axes>"
      ]
     },
     "metadata": {
      "needs_background": "light"
     },
     "output_type": "display_data"
    },
    {
     "data": {
      "image/png": "[encoded data removed]",
      "text/plain": [
       "<Figure size 432x288 with 1 Axes>"
      ]
     },
     "metadata": {
      "needs_background": "light"
     },
     "output_type": "display_data"
    }
   ],
   "source": [
    "# Plot the train results\n",
    "acc = history1.history['acc']\n",
    "val_acc = history1.history['val_acc']\n",
    "loss = history1.history['loss']\n",
    "val_loss = history1.history['val_loss']\n",
    "epochs = range(1, len(acc) + 1)\n",
    "plt.plot(epochs, acc, label='Training acc')\n",
    "plt.plot(epochs, val_acc, label='Validation acc')\n",
    "plt.title('Training and validation accuracy')\n",
    "plt.legend()\n",
    "plt.figure()\n",
    "plt.plot(epochs, loss, label='Training loss')\n",
    "plt.plot(epochs, val_loss, label='Validation loss')\n",
    "plt.title('Training and validation loss')\n",
    "plt.legend()\n",
    "plt.show()"
   ]
  },
  {
   "cell_type": "code",
   "execution_count": 13,
   "metadata": {
    "execution": {
     "iopub.execute_input": "2023-04-26T09:37:01.968415Z",
     "iopub.status.busy": "2023-04-26T09:37:01.967614Z",
     "iopub.status.idle": "2023-04-26T09:37:35.618820Z",
     "shell.execute_reply": "2023-04-26T09:37:35.617847Z",
     "shell.execute_reply.started": "2023-04-26T09:37:01.968376Z"
    }
   },
   "outputs": [
    {
     "name": "stdout",
     "output_type": "stream",
     "text": [
      "6/6 [==============================] - 50s 8s/step\n"
     ]
    },
    {
     "data": {
      "text/plain": [
       "array([[2, 4, 2, 2, 3, 6, 1, 2, 4, 0],\n",
       "       [1, 1, 2, 2, 1, 2, 0, 1, 4, 0],\n",
       "       [4, 0, 1, 0, 1, 2, 0, 0, 1, 0],\n",
       "       [5, 2, 2, 7, 2, 5, 0, 1, 2, 0],\n",
       "       [2, 2, 2, 4, 2, 1, 0, 0, 1, 0],\n",
       "       [4, 3, 3, 5, 2, 2, 0, 3, 3, 0],\n",
       "       [2, 0, 0, 1, 3, 1, 0, 0, 0, 0],\n",
       "       [1, 0, 1, 1, 0, 3, 0, 0, 1, 0],\n",
       "       [4, 3, 0, 6, 2, 4, 1, 2, 6, 0],\n",
       "       [1, 0, 0, 0, 2, 2, 0, 0, 1, 0]], dtype=int64)"
      ]
     },
     "execution_count": 13,
     "metadata": {},
     "output_type": "execute_result"
    }
   ],
   "source": [
    "test_preds = model.predict(test_generator)\n",
    "test_pred_labels = np.argmax(test_preds, axis=1)\n",
    "cm = confusion_matrix(test_generator.classes, test_pred_labels)\n",
    "cm"
   ]
  },
  {
   "cell_type": "code",
   "execution_count": 14,
   "metadata": {
    "execution": {
     "iopub.execute_input": "2023-04-26T09:44:57.768391Z",
     "iopub.status.busy": "2023-04-26T09:44:57.767493Z",
     "iopub.status.idle": "2023-04-26T09:44:57.774763Z",
     "shell.execute_reply": "2023-04-26T09:44:57.773545Z",
     "shell.execute_reply.started": "2023-04-26T09:44:57.768348Z"
    }
   },
   "outputs": [],
   "source": [
    "def plot_confusion_matrix(cm,\n",
    "                      classes, \n",
    "                      normalized=False, \n",
    "                      title=None, \n",
    "                      cmap=plt.cm.Blues,\n",
    "                      size=(16,12)):\n",
    "    fig, ax = plt.subplots(figsize=size)\n",
    "    im = ax.imshow(cm, interpolation='nearest', cmap=cmap)\n",
    "    ax.figure.colorbar(im, ax=ax)"
   ]
  },
  {
   "cell_type": "code",
   "execution_count": 15,
   "metadata": {
    "execution": {
     "iopub.execute_input": "2023-04-26T09:46:02.704187Z",
     "iopub.status.busy": "2023-04-26T09:46:02.703455Z",
     "iopub.status.idle": "2023-04-26T09:46:03.270093Z",
     "shell.execute_reply": "2023-04-26T09:46:03.268885Z",
     "shell.execute_reply.started": "2023-04-26T09:46:02.704143Z"
    }
   },
   "outputs": [
    {
     "data": {
      "image/png": "[encoded data removed]",
      "text/plain": [
       "<Figure size 504x504 with 2 Axes>"
      ]
     },
     "metadata": {
      "needs_background": "light"
     },
     "output_type": "display_data"
    }
   ],
   "source": [
    "plot_confusion_matrix(cm,\n",
    "                      classes_list, \n",
    "                      normalized=True, \n",
    "                      title=\"Model Performance\", \n",
    "                      cmap=plt.cm.Blues,\n",
    "                      size=(7, 7))"
   ]
  },
  {
   "cell_type": "code",
   "execution_count": 16,
   "metadata": {
    "execution": {
     "iopub.execute_input": "2023-04-26T09:46:35.254940Z",
     "iopub.status.busy": "2023-04-26T09:46:35.254537Z",
     "iopub.status.idle": "2023-04-26T09:46:58.448875Z",
     "shell.execute_reply": "2023-04-26T09:46:58.447616Z",
     "shell.execute_reply.started": "2023-04-26T09:46:35.254903Z"
    }
   },
   "outputs": [
    {
     "name": "stdout",
     "output_type": "stream",
     "text": [
      "6/6 [==============================] - 45s 7s/step - loss: 0.4704 - acc: 0.8765\n"
     ]
    }
   ],
   "source": [
    "result = model.evaluate(test_generator)"
   ]
  },
  {
   "cell_type": "code",
   "execution_count": 26,
   "metadata": {
    "collapsed": true
   },
   "outputs": [
    {
     "ename": "ValueError",
     "evalue": "invalid literal for int() with base 10: 'Plant_Identification_model.h5'",
     "output_type": "error",
     "traceback": [
      "\u001b[1;31m---------------------------------------------------------------------------\u001b[0m",
      "\u001b[1;31mValueError\u001b[0m                                Traceback (most recent call last)",
      "Input \u001b[1;32mIn [26]\u001b[0m, in \u001b[0;36m<cell line: 2>\u001b[1;34m()\u001b[0m\n\u001b[0;32m      1\u001b[0m \u001b[38;5;28;01mimport\u001b[39;00m \u001b[38;5;21;01mos\u001b[39;00m\n\u001b[1;32m----> 2\u001b[0m model_version\u001b[38;5;241m=\u001b[39m\u001b[38;5;28mmax\u001b[39m([\u001b[38;5;28mint\u001b[39m(i) \u001b[38;5;28;01mfor\u001b[39;00m i \u001b[38;5;129;01min\u001b[39;00m os\u001b[38;5;241m.\u001b[39mlistdir(\u001b[38;5;124mr\u001b[39m\u001b[38;5;124m\"\u001b[39m\u001b[38;5;124mC:\u001b[39m\u001b[38;5;124m\\\u001b[39m\u001b[38;5;124mUsers\u001b[39m\u001b[38;5;124m\\\u001b[39m\u001b[38;5;124mAalap.LIPI\u001b[39m\u001b[38;5;124m\\\u001b[39m\u001b[38;5;124mOneDrive\u001b[39m\u001b[38;5;124m\\\u001b[39m\u001b[38;5;124mDesktop\u001b[39m\u001b[38;5;124m\\\u001b[39m\u001b[38;5;124mHackathon\u001b[39m\u001b[38;5;124m\\\u001b[39m\u001b[38;5;124mFinal Project\u001b[39m\u001b[38;5;124m\\\u001b[39m\u001b[38;5;124mmodels\u001b[39m\u001b[38;5;124m\"\u001b[39m) \u001b[38;5;241m+\u001b[39m [\u001b[38;5;241m0\u001b[39m]])\u001b[38;5;241m+\u001b[39m\u001b[38;5;241m1\u001b[39m\n\u001b[0;32m      3\u001b[0m model\u001b[38;5;241m.\u001b[39msave(\u001b[38;5;124mfr\u001b[39m\u001b[38;5;124m\"\u001b[39m\u001b[38;5;124mC:\u001b[39m\u001b[38;5;124m\\\u001b[39m\u001b[38;5;124mUsers\u001b[39m\u001b[38;5;124m\\\u001b[39m\u001b[38;5;124mAalap.LIPI\u001b[39m\u001b[38;5;124m\\\u001b[39m\u001b[38;5;124mOneDrive\u001b[39m\u001b[38;5;124m\\\u001b[39m\u001b[38;5;124mDesktop\u001b[39m\u001b[38;5;124m\\\u001b[39m\u001b[38;5;124mHackathon\u001b[39m\u001b[38;5;124m\\\u001b[39m\u001b[38;5;124mFinal Project\u001b[39m\u001b[38;5;124m\\\u001b[39m\u001b[38;5;124mmodels/\u001b[39m\u001b[38;5;132;01m{\u001b[39;00mmodel_version\u001b[38;5;132;01m}\u001b[39;00m\u001b[38;5;124m\"\u001b[39m)\n",
      "Input \u001b[1;32mIn [26]\u001b[0m, in \u001b[0;36m<listcomp>\u001b[1;34m(.0)\u001b[0m\n\u001b[0;32m      1\u001b[0m \u001b[38;5;28;01mimport\u001b[39;00m \u001b[38;5;21;01mos\u001b[39;00m\n\u001b[1;32m----> 2\u001b[0m model_version\u001b[38;5;241m=\u001b[39m\u001b[38;5;28mmax\u001b[39m([\u001b[38;5;28;43mint\u001b[39;49m\u001b[43m(\u001b[49m\u001b[43mi\u001b[49m\u001b[43m)\u001b[49m \u001b[38;5;28;01mfor\u001b[39;00m i \u001b[38;5;129;01min\u001b[39;00m os\u001b[38;5;241m.\u001b[39mlistdir(\u001b[38;5;124mr\u001b[39m\u001b[38;5;124m\"\u001b[39m\u001b[38;5;124mC:\u001b[39m\u001b[38;5;124m\\\u001b[39m\u001b[38;5;124mUsers\u001b[39m\u001b[38;5;124m\\\u001b[39m\u001b[38;5;124mAalap.LIPI\u001b[39m\u001b[38;5;124m\\\u001b[39m\u001b[38;5;124mOneDrive\u001b[39m\u001b[38;5;124m\\\u001b[39m\u001b[38;5;124mDesktop\u001b[39m\u001b[38;5;124m\\\u001b[39m\u001b[38;5;124mHackathon\u001b[39m\u001b[38;5;124m\\\u001b[39m\u001b[38;5;124mFinal Project\u001b[39m\u001b[38;5;124m\\\u001b[39m\u001b[38;5;124mmodels\u001b[39m\u001b[38;5;124m\"\u001b[39m) \u001b[38;5;241m+\u001b[39m [\u001b[38;5;241m0\u001b[39m]])\u001b[38;5;241m+\u001b[39m\u001b[38;5;241m1\u001b[39m\n\u001b[0;32m      3\u001b[0m model\u001b[38;5;241m.\u001b[39msave(\u001b[38;5;124mfr\u001b[39m\u001b[38;5;124m\"\u001b[39m\u001b[38;5;124mC:\u001b[39m\u001b[38;5;124m\\\u001b[39m\u001b[38;5;124mUsers\u001b[39m\u001b[38;5;124m\\\u001b[39m\u001b[38;5;124mAalap.LIPI\u001b[39m\u001b[38;5;124m\\\u001b[39m\u001b[38;5;124mOneDrive\u001b[39m\u001b[38;5;124m\\\u001b[39m\u001b[38;5;124mDesktop\u001b[39m\u001b[38;5;124m\\\u001b[39m\u001b[38;5;124mHackathon\u001b[39m\u001b[38;5;124m\\\u001b[39m\u001b[38;5;124mFinal Project\u001b[39m\u001b[38;5;124m\\\u001b[39m\u001b[38;5;124mmodels/\u001b[39m\u001b[38;5;132;01m{\u001b[39;00mmodel_version\u001b[38;5;132;01m}\u001b[39;00m\u001b[38;5;124m\"\u001b[39m)\n",
      "\u001b[1;31mValueError\u001b[0m: invalid literal for int() with base 10: 'Plant_Identification_model.h5'"
     ]
    }
   ],
   "source": [
    "# import os\n",
    "# model_version=max([int(i) for i in os.listdir(r\"C:\\Users\\Aalap.LIPI\\OneDrive\\Desktop\\Hackathon\\Final Project\\models\") + [0]])+1\n",
    "# model.save(fr\"C:\\Users\\Aalap.LIPI\\OneDrive\\Desktop\\Hackathon\\Final Project\\models/{model_version}\")"
   ]
  },
  {
   "cell_type": "code",
   "execution_count": 22,
   "metadata": {},
   "outputs": [],
   "source": [
    "# model.save(r\"C:\\Users\\Aalap.LIPI\\OneDrive\\Desktop\\Hackathon\\Final Project\\models\\Plant_Identification_model.h5\")"
   ]
  },
  {
   "cell_type": "code",
   "execution_count": 43,
   "metadata": {},
   "outputs": [],
   "source": [
    "# Load your pre-trained model (replace 'model_path' with your model's file path)\n",
    "model_path = r\"C:\\Users\\Aalap.LIPI\\OneDrive\\Desktop\\Hackathon\\Final Project\\models\\Plant_Identification_model.h5\"\n",
    "loaded_model = tf.keras.models.load_model(model_path)"
   ]
  },
  {
   "cell_type": "code",
   "execution_count": 44,
   "metadata": {},
   "outputs": [],
   "source": [
    "# Define a function to preprocess the input image\n",
    "def preprocess_image(image_path):\n",
    "    img = image.load_img(image_path, target_size=(224, 224))  # Adjust target size as per your model's input shape\n",
    "    img_array = image.img_to_array(img)\n",
    "    img_array = np.expand_dims(img_array, axis=0)\n",
    "    img_array = tf.keras.applications.mobilenet_v2.preprocess_input(img_array)  # Replace with your model's preprocess_input function\n",
    "    return img_array"
   ]
  },
  {
   "cell_type": "code",
   "execution_count": 45,
   "metadata": {},
   "outputs": [],
   "source": [
    "# Define a function to make predictions\n",
    "def predict_image(model, image_path):\n",
    "    preprocessed_image = preprocess_image(image_path)\n",
    "    predictions = model.predict(preprocessed_image)\n",
    "    return predictions"
   ]
  },
  {
   "cell_type": "code",
   "execution_count": 56,
   "metadata": {},
   "outputs": [
    {
     "name": "stdout",
     "output_type": "stream",
     "text": [
      "1/1 [==============================] - 0s 173ms/step\n"
     ]
    }
   ],
   "source": [
    "from tensorflow.keras.preprocessing import image\n",
    "# Test the model on a new, unseen image\n",
    "image_path = r\"C:\\Users\\Aalap.LIPI\\OneDrive\\Desktop\\Hackathon\\Final Project\\betel2.jpg\"  # Replace with the path to your unseen image\n",
    " # Replace with the path to your unseen image\n",
    "predictions = predict_image(loaded_model, image_path)# Decode predictions (assuming you used one-hot encoding for class labels)\n",
    "class_labels = ['Bamboo', 'Basale', 'Beans', 'Betel', 'Betel_Nut', 'Bhrami', 'Bringaraja', 'camphor', 'Caricature', 'Castor']  # Replace with your class labels\n",
    "predicted_class_index = np.argmax(predictions)\n",
    "predicted_class_label = class_labels[predicted_class_index]"
   ]
  },
  {
   "cell_type": "code",
   "execution_count": 57,
   "metadata": {},
   "outputs": [
    {
     "name": "stdout",
     "output_type": "stream",
     "text": [
      "Predicted class: Betel\n",
      "Confidence score: 0.9800856709480286\n"
     ]
    }
   ],
   "source": [
    "# Print the predicted class label and confidence score\n",
    "print(f\"Predicted class: {predicted_class_label}\")\n",
    "print(f\"Confidence score: {predictions[0][predicted_class_index]}\")"
   ]
  },
  {
   "cell_type": "code",
   "execution_count": null,
   "metadata": {},
   "outputs": [],
   "source": []
  },
  {
   "cell_type": "code",
   "execution_count": null,
   "metadata": {},
   "outputs": [],
   "source": []
  },
  {
   "cell_type": "code",
   "execution_count": null,
   "metadata": {},
   "outputs": [],
   "source": []
  }
 ],
 "metadata": {
  "kernelspec": {
   "display_name": "Python 3 (ipykernel)",
   "language": "python",
   "name": "python3"
  },
  "language_info": {
   "codemirror_mode": {
    "name": "ipython",
    "version": 3
   },
   "file_extension": ".py",
   "mimetype": "text/x-python",
   "name": "python",
   "nbconvert_exporter": "python",
   "pygments_lexer": "ipython3",
   "version": "3.9.12"
  }
 },
 "nbformat": 4,
 "nbformat_minor": 4
}
